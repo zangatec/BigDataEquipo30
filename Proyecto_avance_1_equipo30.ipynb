{
  "cells": [
    {
      "cell_type": "markdown",
      "metadata": {
        "id": "asKK73uSudG4"
      },
      "source": [
        "##Sistema de recomendación de películas\n"
      ]
    },
    {
      "cell_type": "code",
      "execution_count": 2,
      "metadata": {
        "id": "KE0dtCU0fwnX"
      },
      "outputs": [],
      "source": [
        "import gdown\n",
        "import pandas as pd\n",
        "import matplotlib.pyplot as plt\n",
        "\n",
        "from sklearn.decomposition import TruncatedSVD\n",
        "import numpy as np"
      ]
    },
    {
      "cell_type": "code",
      "execution_count": null,
      "metadata": {},
      "outputs": [],
      "source": [
        "# URL del archivo en Google Drive\n",
        "url = 'https://drive.google.com/uc?id=1daDoh1LbfpuFl4nX51jtc-O6-V_BWMIP'\n",
        "\n",
        "# Descargar el archivo desde Google Drive\n",
        "output = 'data.csv'\n",
        "gdown.download(url, output, quiet=False)\n",
        "\n",
        "# Cargar el archivo CSV en un DataFrame de pandas\n",
        "data = pd.read_csv(output)"
      ]
    },
    {
      "cell_type": "code",
      "execution_count": 3,
      "metadata": {
        "colab": {
          "base_uri": "https://localhost:8080/"
        },
        "id": "G8Wv4Hr0bDdc",
        "outputId": "95d8efda-88d0-44c4-e900-299fe2b38c0e"
      },
      "outputs": [
        {
          "name": "stdout",
          "output_type": "stream",
          "text": [
            "   userId  movieId  rating   timestamp\n",
            "0       1      296     5.0  1147880044\n",
            "1       1      306     3.5  1147868817\n",
            "2       1      307     5.0  1147868828\n",
            "3       1      665     5.0  1147878820\n",
            "4       1      899     3.5  1147868510\n"
          ]
        }
      ],
      "source": [
        "data = pd.read_csv('data.csv')\n",
        "\n",
        "# Mostrar las primeras filas del DataFrame para verificar que se ha cargado correctamente\n",
        "print(data.head())"
      ]
    },
    {
      "cell_type": "code",
      "execution_count": null,
      "metadata": {},
      "outputs": [],
      "source": [
        "# URL del archivo en Google Drive\n",
        "url = 'https://drive.google.com/uc?id=1IOnOTXLow2AVXmc_2Qq5AwjaxbUP_Iye'\n",
        "\n",
        "# Descargar el archivo desde Google Drive\n",
        "output = 'data2.csv'\n",
        "gdown.download(url, output, quiet=False)\n",
        "\n",
        "# Cargar el archivo CSV en un DataFrame de pandas\n",
        "data2 = pd.read_csv(output)"
      ]
    },
    {
      "cell_type": "code",
      "execution_count": 4,
      "metadata": {
        "colab": {
          "base_uri": "https://localhost:8080/"
        },
        "id": "G_qhXdYnhPol",
        "outputId": "882ccc93-ac4e-4ef3-b892-f39b26463ad6"
      },
      "outputs": [
        {
          "name": "stdout",
          "output_type": "stream",
          "text": [
            "   movieId                               title  \\\n",
            "0        1                    Toy Story (1995)   \n",
            "1        2                      Jumanji (1995)   \n",
            "2        3             Grumpier Old Men (1995)   \n",
            "3        4            Waiting to Exhale (1995)   \n",
            "4        5  Father of the Bride Part II (1995)   \n",
            "\n",
            "                                        genres  \n",
            "0  Adventure|Animation|Children|Comedy|Fantasy  \n",
            "1                   Adventure|Children|Fantasy  \n",
            "2                               Comedy|Romance  \n",
            "3                         Comedy|Drama|Romance  \n",
            "4                                       Comedy  \n"
          ]
        }
      ],
      "source": [
        "data2 = pd.read_csv('data2.csv')\n",
        "\n",
        "# Mostrar las primeras filas del DataFrame para verificar que se ha cargado correctamente\n",
        "print(data2.head())"
      ]
    },
    {
      "cell_type": "code",
      "execution_count": 6,
      "metadata": {
        "colab": {
          "base_uri": "https://localhost:8080/"
        },
        "id": "kkosXuKahzMI",
        "outputId": "0610c6b4-e3e7-4ed1-ae66-2c24f0d5a46d"
      },
      "outputs": [
        {
          "name": "stdout",
          "output_type": "stream",
          "text": [
            "   userId  movieId  rating   timestamp  \\\n",
            "0       1      296     5.0  1147880044   \n",
            "1       1      306     3.5  1147868817   \n",
            "2       1      307     5.0  1147868828   \n",
            "3       1      665     5.0  1147878820   \n",
            "4       1      899     3.5  1147868510   \n",
            "\n",
            "                                              title  \\\n",
            "0                               Pulp Fiction (1994)   \n",
            "1  Three Colors: Red (Trois couleurs: Rouge) (1994)   \n",
            "2  Three Colors: Blue (Trois couleurs: Bleu) (1993)   \n",
            "3                                Underground (1995)   \n",
            "4                        Singin' in the Rain (1952)   \n",
            "\n",
            "                        genres  \n",
            "0  Comedy|Crime|Drama|Thriller  \n",
            "1                        Drama  \n",
            "2                        Drama  \n",
            "3             Comedy|Drama|War  \n",
            "4       Comedy|Musical|Romance  \n"
          ]
        }
      ],
      "source": [
        "# Unir los DataFrames utilizando la columna 'movieId' como clave foránea\n",
        "df = pd.merge(data, data2, on='movieId', how='inner')\n",
        "\n",
        "# Mostrar las primeras filas del DataFrame unido para verificar el resultado\n",
        "print(df.head())"
      ]
    },
    {
      "cell_type": "code",
      "execution_count": 7,
      "metadata": {
        "colab": {
          "base_uri": "https://localhost:8080/"
        },
        "id": "Dhko5k3giLEX",
        "outputId": "5b230f09-86a0-47f1-ecb6-8a769724787a"
      },
      "outputs": [
        {
          "name": "stdout",
          "output_type": "stream",
          "text": [
            "Conteo de valores únicos para merged_data:\n",
            "userId         162541\n",
            "movieId         59047\n",
            "rating             10\n",
            "timestamp    20115267\n",
            "title           58958\n",
            "genres           1621\n",
            "dtype: int64\n"
          ]
        }
      ],
      "source": [
        "# Conteo de valores únicos en cada variable para merged_data\n",
        "unique_counts_merged_data = df.nunique()\n",
        "\n",
        "# Mostrar el conteo de valores únicos para merged_data\n",
        "print(\"Conteo de valores únicos para merged_data:\")\n",
        "print(unique_counts_merged_data)"
      ]
    },
    {
      "cell_type": "code",
      "execution_count": 8,
      "metadata": {
        "colab": {
          "base_uri": "https://localhost:8080/"
        },
        "id": "C6JVsJSpirC1",
        "outputId": "ac3b0d3b-b6c5-4b8c-e943-78bc2799b747"
      },
      "outputs": [
        {
          "name": "stdout",
          "output_type": "stream",
          "text": [
            "Tipo de variable de cada columna en merged_data:\n",
            "userId         int64\n",
            "movieId        int64\n",
            "rating       float64\n",
            "timestamp      int64\n",
            "title         object\n",
            "genres        object\n",
            "dtype: object\n"
          ]
        }
      ],
      "source": [
        "# Obtener el tipo de variable de cada columna en merged_data\n",
        "variable_types_merged_data = df.dtypes\n",
        "\n",
        "# Mostrar el tipo de variable de cada columna en merged_data\n",
        "print(\"Tipo de variable de cada columna en merged_data:\")\n",
        "print(variable_types_merged_data)"
      ]
    },
    {
      "cell_type": "code",
      "execution_count": 9,
      "metadata": {
        "colab": {
          "base_uri": "https://localhost:8080/"
        },
        "id": "H2oPGQ-msmHN",
        "outputId": "bfa1b52e-a3c1-4621-9aaa-322a73bb63c5"
      },
      "outputs": [
        {
          "name": "stdout",
          "output_type": "stream",
          "text": [
            "             userId       movieId        rating     timestamp\n",
            "count  2.500010e+07  2.500010e+07  2.500010e+07  2.500010e+07\n",
            "mean   8.118928e+04  2.138798e+04  3.533854e+00  1.215601e+09\n",
            "std    4.679172e+04  3.919886e+04  1.060744e+00  2.268758e+08\n",
            "min    1.000000e+00  1.000000e+00  5.000000e-01  7.896520e+08\n",
            "25%    4.051000e+04  1.196000e+03  3.000000e+00  1.011747e+09\n",
            "50%    8.091400e+04  2.947000e+03  3.500000e+00  1.198868e+09\n",
            "75%    1.215570e+05  8.623000e+03  4.000000e+00  1.447205e+09\n",
            "max    1.625410e+05  2.091710e+05  5.000000e+00  1.574328e+09\n"
          ]
        }
      ],
      "source": [
        "# Utiliza el método describe() para obtener estadísticas descriptivas del DataFrame\n",
        "descripcion = df.describe()\n",
        "\n",
        "# Muestra las estadísticas descriptivas\n",
        "print(descripcion)"
      ]
    },
    {
      "cell_type": "markdown",
      "metadata": {
        "id": "2x9uCgSqpdPj"
      },
      "source": [
        "Ya analizado lo anterior podemos observar que contamos con seis columnas que nos ayudarán a desarrollar el sistema de recomendación basado en películas. Las siguientes variables forman parte de nuestra base de datos, además que se dará una breve explicaicón de sus características.\n",
        "\n",
        "\n",
        "\n",
        "*   userId : Esta variable indica el número de usuario que está dando su calificación respecto a una película, es de tipo entero\n",
        "*   movieId : Esta fue parte de la concatenación de nuestras dos bases de datos iniciales, ya que se tomó como llave foránea. \"movieId\" también es de tipo entero.\n",
        "*   rating : Será nuestra variable principal ya que en base a ella se estudiará si una película forma parte de los mismos gustos de los usuarios para el sistema de recomendación\n",
        "*   timestamp : La columna que indica el tiempo que se llevó para proporcionar retroalimentación por parte de los usuarios.\n",
        "*   title : El título de la película, que es de tipo object.\n",
        "*   genres : El género de la película, que es de tipo object\n",
        "\n",
        "\n",
        "\n",
        "\n",
        "\n",
        "\n",
        "\n",
        "\n",
        "\n",
        "\n"
      ]
    },
    {
      "cell_type": "code",
      "execution_count": 10,
      "metadata": {
        "colab": {
          "base_uri": "https://localhost:8080/",
          "height": 472
        },
        "id": "sh_FilnfjHwS",
        "outputId": "b6c2814d-967f-4672-aa91-320312d41bfe"
      },
      "outputs": [
        {
          "data": {
            "image/png": "[encoded data removed]",
            "text/plain": [
              "<Figure size 640x480 with 1 Axes>"
            ]
          },
          "metadata": {},
          "output_type": "display_data"
        }
      ],
      "source": [
        "# Crear un histograma de la variable 'rating'\n",
        "plt.hist(df['rating'], bins=10, color='skyblue', edgecolor='black')\n",
        "\n",
        "# Agregar etiquetas y título\n",
        "plt.xlabel('Rating')\n",
        "plt.ylabel('Frecuencia')\n",
        "plt.title('Distribución de Ratings')\n",
        "\n",
        "# Mostrar la gráfica\n",
        "plt.show()"
      ]
    },
    {
      "cell_type": "markdown",
      "metadata": {
        "id": "cidAyvjQu56e"
      },
      "source": [
        "Dentro de este análisis podemos observar como el gráfico se concentra en calificaciones de 3.5 y muy pocas películas, hablando proporcionalmente, tienen bajas calificaciones."
      ]
    },
    {
      "cell_type": "code",
      "execution_count": 11,
      "metadata": {
        "colab": {
          "base_uri": "https://localhost:8080/",
          "height": 607
        },
        "id": "XvF6clhhkVrD",
        "outputId": "0ba0c721-4018-4180-c784-3886f13b6f83"
      },
      "outputs": [
        {
          "data": {
            "image/png": "[encoded data removed]",
            "text/plain": [
              "<Figure size 1000x600 with 1 Axes>"
            ]
          },
          "metadata": {},
          "output_type": "display_data"
        }
      ],
      "source": [
        "# Conteo de los diez títulos más frecuentes\n",
        "top_titles = df['title'].value_counts().head(10)\n",
        "\n",
        "# Crear la gráfica de barras\n",
        "plt.figure(figsize=(10, 6))\n",
        "top_titles.plot(kind='bar', color='skyblue')\n",
        "\n",
        "# Agregar etiquetas y título\n",
        "plt.xlabel('Título')\n",
        "plt.ylabel('Conteo')\n",
        "plt.title('Los Diez Títulos Más Frecuentes')\n",
        "\n",
        "# Rotar las etiquetas del eje x para mejorar la legibilidad\n",
        "plt.xticks(rotation=45, ha='right')\n",
        "\n",
        "# Mostrar la gráfica\n",
        "plt.tight_layout()\n",
        "plt.show()"
      ]
    },
    {
      "cell_type": "code",
      "execution_count": 12,
      "metadata": {
        "colab": {
          "base_uri": "https://localhost:8080/",
          "height": 607
        },
        "id": "AxEHs0UllPuQ",
        "outputId": "83a9aaa7-5549-4312-da4f-15ae9187771c"
      },
      "outputs": [
        {
          "data": {
            "image/png": "[encoded data removed]",
            "text/plain": [
              "<Figure size 1000x600 with 1 Axes>"
            ]
          },
          "metadata": {},
          "output_type": "display_data"
        }
      ],
      "source": [
        "\n",
        "# Calcular el promedio de la variable 'rating' para cada película\n",
        "average_ratings = df.groupby('title')['rating'].mean()\n",
        "\n",
        "# Ordenar los promedios de manera descendente y seleccionar los diez mejores\n",
        "top_10_ratings = average_ratings.sort_values(ascending=False).head(10)\n",
        "\n",
        "# Crear la gráfica de barras\n",
        "plt.figure(figsize=(10, 6))\n",
        "top_10_ratings.plot(kind='bar', color='skyblue')\n",
        "\n",
        "# Agregar etiquetas y título\n",
        "plt.xlabel('Título')\n",
        "plt.ylabel('Promedio de Rating')\n",
        "plt.title('Los Diez Mejores Promedios de Rating por Película')\n",
        "\n",
        "# Rotar las etiquetas del eje x para mejorar la legibilidad\n",
        "plt.xticks(rotation=45, ha='right')\n",
        "\n",
        "# Mostrar la gráfica\n",
        "plt.tight_layout()\n",
        "plt.show()"
      ]
    },
    {
      "cell_type": "code",
      "execution_count": 13,
      "metadata": {
        "colab": {
          "base_uri": "https://localhost:8080/",
          "height": 607
        },
        "id": "LFYsp7j2leD5",
        "outputId": "3198ed3e-1b64-482c-e9f7-352b716e268d"
      },
      "outputs": [
        {
          "data": {
            "image/png": "[encoded data removed]",
            "text/plain": [
              "<Figure size 1000x600 with 1 Axes>"
            ]
          },
          "metadata": {},
          "output_type": "display_data"
        }
      ],
      "source": [
        "# Calcular el promedio de la variable 'rating' para cada película\n",
        "average_ratings = df.groupby('title')['rating'].mean()\n",
        "\n",
        "# Ordenar los promedios de manera ascendente y seleccionar los diez peores\n",
        "bottom_10_ratings = average_ratings.sort_values().head(10)\n",
        "\n",
        "# Crear la gráfica de barras\n",
        "plt.figure(figsize=(10, 6))\n",
        "bottom_10_ratings.plot(kind='bar', color='skyblue')\n",
        "\n",
        "# Agregar etiquetas y título\n",
        "plt.xlabel('Título')\n",
        "plt.ylabel('Promedio de Rating')\n",
        "plt.title('Los Diez Peores Promedios de Rating por Película')\n",
        "\n",
        "# Rotar las etiquetas del eje x para mejorar la legibilidad\n",
        "plt.xticks(rotation=45, ha='right')\n",
        "\n",
        "# Mostrar la gráfica\n",
        "plt.tight_layout()\n",
        "plt.show()"
      ]
    },
    {
      "cell_type": "code",
      "execution_count": 14,
      "metadata": {
        "colab": {
          "base_uri": "https://localhost:8080/"
        },
        "id": "-bzu1d0snPTj",
        "outputId": "62bf1776-30f2-453c-f2af-7539f293cd29"
      },
      "outputs": [
        {
          "name": "stdout",
          "output_type": "stream",
          "text": [
            "Valores vacíos en cada columna:\n",
            "userId       0\n",
            "movieId      0\n",
            "rating       0\n",
            "timestamp    0\n",
            "title        0\n",
            "genres       0\n",
            "dtype: int64\n"
          ]
        }
      ],
      "source": [
        "# Contar los valores vacíos en cada columna\n",
        "missing_values_count = df.isna().sum()\n",
        "\n",
        "# Mostrar el conteo de valores vacíos en cada columna\n",
        "print(\"Valores vacíos en cada columna:\")\n",
        "print(missing_values_count)"
      ]
    },
    {
      "cell_type": "markdown",
      "metadata": {
        "id": "y_w_dwVksAGg"
      },
      "source": [
        "##Proceso de preprocesamiento\n",
        "\n",
        "Para el preprocesamiento de datos primero fue necesario cargar las bases de datos por medio de las librerías gdown y pandas, ya que el archivo csv fue utilizado desde drive, el cual, con su url fue suficiente para cargar las dos bases de datos, que después fueron unidas mediante su llave foránea que fue movieId para poder continuar con nuestro primer paso.\n",
        "\n",
        "Después de realizar esto se hizo una exploración de datos para entender su estructura, características y posibles problemas que se pudieran generar. Se utilizó el método describe() para poder analizar las variables numéricas. Después de esto también se realizó un análisis de variables categóricas, mediante el estudio de raiting promedio, esto con el propósito de conocer cuales eran las 10 mejores o peores películas en base a la experiencia de los usuarios o también los diez títulos mas vistos por parte de usuarios, es decir los más populares\n",
        "\n",
        "Para continuar con nuestro proceso se intentó encontrar variables faltantes dentro de la base de datos, el resultado fue que no hubo falta de datos en ninguna columna.\n"
      ]
    },
    {
      "cell_type": "code",
      "execution_count": 15,
      "metadata": {},
      "outputs": [],
      "source": [
        "lista_data1 = ['userId','movieId','rating']\n",
        "lista_data2 = ['movieId','title']\n",
        "\n",
        "data1a = data[lista_data1]\n",
        "data2a = data2[lista_data2]\n",
        "\n",
        "df_combinado = pd.merge(data1a, data2a, on='movieId')"
      ]
    },
    {
      "cell_type": "code",
      "execution_count": 16,
      "metadata": {},
      "outputs": [
        {
          "data": {
            "text/html": [
              "<div>\n",
              "<style scoped>\n",
              "    .dataframe tbody tr th:only-of-type {\n",
              "        vertical-align: middle;\n",
              "    }\n",
              "\n",
              "    .dataframe tbody tr th {\n",
              "        vertical-align: top;\n",
              "    }\n",
              "\n",
              "    .dataframe thead th {\n",
              "        text-align: right;\n",
              "    }\n",
              "</style>\n",
              "<table border=\"1\" class=\"dataframe\">\n",
              "  <thead>\n",
              "    <tr style=\"text-align: right;\">\n",
              "      <th></th>\n",
              "      <th>userId</th>\n",
              "      <th>movieId</th>\n",
              "      <th>rating</th>\n",
              "      <th>title</th>\n",
              "    </tr>\n",
              "  </thead>\n",
              "  <tbody>\n",
              "    <tr>\n",
              "      <th>0</th>\n",
              "      <td>1</td>\n",
              "      <td>296</td>\n",
              "      <td>5.0</td>\n",
              "      <td>Pulp Fiction (1994)</td>\n",
              "    </tr>\n",
              "    <tr>\n",
              "      <th>1</th>\n",
              "      <td>1</td>\n",
              "      <td>306</td>\n",
              "      <td>3.5</td>\n",
              "      <td>Three Colors: Red (Trois couleurs: Rouge) (1994)</td>\n",
              "    </tr>\n",
              "    <tr>\n",
              "      <th>2</th>\n",
              "      <td>1</td>\n",
              "      <td>307</td>\n",
              "      <td>5.0</td>\n",
              "      <td>Three Colors: Blue (Trois couleurs: Bleu) (1993)</td>\n",
              "    </tr>\n",
              "    <tr>\n",
              "      <th>3</th>\n",
              "      <td>1</td>\n",
              "      <td>665</td>\n",
              "      <td>5.0</td>\n",
              "      <td>Underground (1995)</td>\n",
              "    </tr>\n",
              "    <tr>\n",
              "      <th>4</th>\n",
              "      <td>1</td>\n",
              "      <td>899</td>\n",
              "      <td>3.5</td>\n",
              "      <td>Singin' in the Rain (1952)</td>\n",
              "    </tr>\n",
              "  </tbody>\n",
              "</table>\n",
              "</div>"
            ],
            "text/plain": [
              "   userId  movieId  rating                                             title\n",
              "0       1      296     5.0                               Pulp Fiction (1994)\n",
              "1       1      306     3.5  Three Colors: Red (Trois couleurs: Rouge) (1994)\n",
              "2       1      307     5.0  Three Colors: Blue (Trois couleurs: Bleu) (1993)\n",
              "3       1      665     5.0                                Underground (1995)\n",
              "4       1      899     3.5                        Singin' in the Rain (1952)"
            ]
          },
          "execution_count": 16,
          "metadata": {},
          "output_type": "execute_result"
        }
      ],
      "source": [
        "df_combinado.head(5)"
      ]
    },
    {
      "cell_type": "code",
      "execution_count": 17,
      "metadata": {},
      "outputs": [],
      "source": [
        "# Check for duplicate entries\n",
        "df_combinado = df_combinado.groupby(['title', 'userId'], as_index=False).agg({'rating': 'mean'})\n",
        "df_combinado.reset_index(drop=True, inplace=True)"
      ]
    },
    {
      "cell_type": "code",
      "execution_count": 18,
      "metadata": {},
      "outputs": [
        {
          "data": {
            "text/html": [
              "<div>\n",
              "<style scoped>\n",
              "    .dataframe tbody tr th:only-of-type {\n",
              "        vertical-align: middle;\n",
              "    }\n",
              "\n",
              "    .dataframe tbody tr th {\n",
              "        vertical-align: top;\n",
              "    }\n",
              "\n",
              "    .dataframe thead th {\n",
              "        text-align: right;\n",
              "    }\n",
              "</style>\n",
              "<table border=\"1\" class=\"dataframe\">\n",
              "  <thead>\n",
              "    <tr style=\"text-align: right;\">\n",
              "      <th></th>\n",
              "      <th>title</th>\n",
              "      <th>userId</th>\n",
              "      <th>rating</th>\n",
              "    </tr>\n",
              "  </thead>\n",
              "  <tbody>\n",
              "    <tr>\n",
              "      <th>0</th>\n",
              "      <td>\"BLOW THE NIGHT!\" Let's Spend the Night Togeth...</td>\n",
              "      <td>134530</td>\n",
              "      <td>3.0</td>\n",
              "    </tr>\n",
              "    <tr>\n",
              "      <th>1</th>\n",
              "      <td>\"Great Performances\" Cats (1998)</td>\n",
              "      <td>1262</td>\n",
              "      <td>4.5</td>\n",
              "    </tr>\n",
              "    <tr>\n",
              "      <th>2</th>\n",
              "      <td>\"Great Performances\" Cats (1998)</td>\n",
              "      <td>1282</td>\n",
              "      <td>4.5</td>\n",
              "    </tr>\n",
              "    <tr>\n",
              "      <th>3</th>\n",
              "      <td>\"Great Performances\" Cats (1998)</td>\n",
              "      <td>1793</td>\n",
              "      <td>4.0</td>\n",
              "    </tr>\n",
              "    <tr>\n",
              "      <th>4</th>\n",
              "      <td>\"Great Performances\" Cats (1998)</td>\n",
              "      <td>1833</td>\n",
              "      <td>3.0</td>\n",
              "    </tr>\n",
              "  </tbody>\n",
              "</table>\n",
              "</div>"
            ],
            "text/plain": [
              "                                               title  userId  rating\n",
              "0  \"BLOW THE NIGHT!\" Let's Spend the Night Togeth...  134530     3.0\n",
              "1                   \"Great Performances\" Cats (1998)    1262     4.5\n",
              "2                   \"Great Performances\" Cats (1998)    1282     4.5\n",
              "3                   \"Great Performances\" Cats (1998)    1793     4.0\n",
              "4                   \"Great Performances\" Cats (1998)    1833     3.0"
            ]
          },
          "execution_count": 18,
          "metadata": {},
          "output_type": "execute_result"
        }
      ],
      "source": [
        "df_combinado.head(5)"
      ]
    },
    {
      "cell_type": "markdown",
      "metadata": {},
      "source": [
        "# Probamos con un algoritmo de recomendación (SVD)"
      ]
    },
    {
      "cell_type": "code",
      "execution_count": 19,
      "metadata": {},
      "outputs": [],
      "source": [
        "# Delete all duplicates (same useriId and movieId)\n",
        "df_combinado = df_combinado.drop_duplicates(subset=['userId', 'title'], keep='first')"
      ]
    },
    {
      "cell_type": "code",
      "execution_count": 20,
      "metadata": {},
      "outputs": [],
      "source": [
        "# Create a sample of the DataFrame\n",
        "sample_df = df_combinado.sample(frac=0.001, random_state=42)\n",
        "UtMx_movies = sample_df.pivot_table(values='rating', index='title', columns='userId', fill_value=0)"
      ]
    },
    {
      "cell_type": "code",
      "execution_count": 21,
      "metadata": {},
      "outputs": [
        {
          "name": "stdout",
          "output_type": "stream",
          "text": [
            "Total de valores singulares basados en evaluación de la : 10\n",
            "Valor de truncamiento al 90% de dicha variabilidad: 8\n"
          ]
        }
      ],
      "source": [
        "nc_movies = 10    # número de componentes\n",
        "\n",
        "SVD_movies = TruncatedSVD( n_components = nc_movies )\n",
        "SVD_movies.fit(UtMx_movies)\n",
        "\n",
        "# Determinemos la cantidad de componentes que explican un 90%\n",
        "# de la variabilidad acumulada de cada componente:\n",
        "\n",
        "for j in range(nc_movies):\n",
        "  if SVD_movies.explained_variance_ratio_[0:j].sum() > 0.90:\n",
        "    break\n",
        "\n",
        "# Usaremos esta cantidad de componentes para las recomendaciones basadas\n",
        "# en la calificación de la comida:\n",
        "N_movies = j-1\n",
        "\n",
        "print('Total de valores singulares basados en evaluación de la :', nc_movies)\n",
        "print('Valor de truncamiento al 90% de dicha variabilidad:',N_movies)"
      ]
    },
    {
      "cell_type": "code",
      "execution_count": 22,
      "metadata": {},
      "outputs": [
        {
          "name": "stdout",
          "output_type": "stream",
          "text": [
            "[\"Empire of Dreams: The Story of the 'Star Wars' Trilogy (2004)\"\n",
            " 'Plastic Galaxy: The Story of Star Wars Toys (2014)'\n",
            " 'Robot Chicken: Star Wars (2007)'\n",
            " 'Robot Chicken: Star Wars Episode II (2008)'\n",
            " 'Robot Chicken: Star Wars Episode III (2010)'\n",
            " 'Rogue One: A Star Wars Story (2016)' 'Solo: A Star Wars Story (2018)'\n",
            " 'Star Wars Downunder (2013)' 'Star Wars: Dresca'\n",
            " 'Star Wars: Episode I - The Phantom Menace (1999)'\n",
            " 'Star Wars: Episode II - Attack of the Clones (2002)'\n",
            " 'Star Wars: Episode III - Revenge of the Sith (2005)'\n",
            " 'Star Wars: Episode IV - A New Hope (1977)'\n",
            " 'Star Wars: Episode V - The Empire Strikes Back (1980)'\n",
            " 'Star Wars: Episode VI - Return of the Jedi (1983)'\n",
            " 'Star Wars: Episode VII - The Force Awakens (2015)'\n",
            " 'Star Wars: The Clone Wars (2008)' 'Star Wars: The Last Jedi (2017)'\n",
            " 'Star Wars: The Legacy Revealed (2007)'\n",
            " 'Star Wars: Threads of Destiny (2014)'\n",
            " 'The Star Wars Holiday Special (1978)']\n"
          ]
        }
      ],
      "source": [
        "# Get movies that title contains 'Star Wars'\n",
        "star_wars = df_combinado[df_combinado['title'].str.contains('Star Wars')]\n",
        "print(star_wars[\"title\"].unique())"
      ]
    },
    {
      "cell_type": "code",
      "execution_count": 23,
      "metadata": {},
      "outputs": [
        {
          "name": "stdout",
          "output_type": "stream",
          "text": [
            "Película de referencia: Godzilla (Gojira) (1954)\n",
            "Total de similaridades positivas encontradas: 3000\n",
            "Similitudes con base a la evaluación de las calificaciones con mayores valores de correlación:\n",
            "1> (0.9530669606649255, 'Letters to Juliet (2010)')\n",
            "2> (0.9518354344259626, 'Gold Diggers: The Secret of Bear Mountain (1995)')\n",
            "3> (0.9388664807157329, 'Confessions of a Shopaholic (2009)')\n",
            "4> (0.9367969912157522, 'Rhinestone (1984)')\n",
            "5> (0.9274103405477329, 'Prescription Thugs (2016)')\n",
            "6> (0.9202047952766305, 'Saw VII 3D - The Final Chapter (2010)')\n",
            "7> (0.920027829569935, 'Ghostbusters (2016)')\n",
            "8> (0.9186398400233375, 'Young Goethe in Love (2011)')\n",
            "9> (0.9186398400233375, 'The Inhabited Island (2008)')\n",
            "10> (0.9162967991916966, 'Babe: Pig in the City (1998)')\n"
          ]
        }
      ],
      "source": [
        "# Factorización SVD:\n",
        "SVD_movies = TruncatedSVD(n_components = N_movies)\n",
        "resultant_matrix_movies = SVD_movies.fit_transform(UtMx_movies)\n",
        "\n",
        "# Matriz de correlación de Pearson:\n",
        "corr_mat_movies = np.corrcoef(resultant_matrix_movies)\n",
        "\n",
        "# Obtenemos una película de referencia:\n",
        "pelicula_de_referencia = df_combinado['title'].sample(1).values[0]\n",
        "print('Película de referencia:', pelicula_de_referencia)\n",
        "nombres_rest = UtMx_movies.T.columns  # nombres de restaurantes\n",
        "idx_rest = list(nombres_rest).index(pelicula_de_referencia)\n",
        "corr_rest = corr_mat_movies[idx_rest] # Vector de Correlación\n",
        "\n",
        "# Buscando las correlaciones positivas:\n",
        "idx = (corr_rest>0)\n",
        "mejores_sim_movies = list()\n",
        "for i in range(len(nombres_rest[idx])):\n",
        "  mejores_sim_movies.append((corr_rest[idx][i], nombres_rest[idx][i]))\n",
        "\n",
        "print('Total de similaridades positivas encontradas:', len(mejores_sim_movies))\n",
        "\n",
        "mejores_sim_movies_ordenadas = sorted(mejores_sim_movies, reverse=True)\n",
        "\n",
        "# Desplegamos las 10 mejores similitudes encontradas de manera descendente:\n",
        "print('Similitudes con base a la evaluación de las calificaciones con mayores valores de correlación:')\n",
        "for k in range(1,11):\n",
        "  print('%d> %s' % (k, mejores_sim_movies_ordenadas[k]))"
      ]
    },
    {
      "cell_type": "markdown",
      "metadata": {},
      "source": [
        "# Probamos con otro algoritmo de recomendación (KNN)"
      ]
    },
    {
      "cell_type": "code",
      "execution_count": 24,
      "metadata": {},
      "outputs": [],
      "source": [
        "from sklearn.neighbors import NearestNeighbors  "
      ]
    },
    {
      "cell_type": "code",
      "execution_count": 25,
      "metadata": {},
      "outputs": [],
      "source": [
        "df_combinado = pd.merge(data1a, data2a, on='movieId')\n",
        "ratings = data1a\n",
        "movies = data2a"
      ]
    },
    {
      "cell_type": "code",
      "execution_count": 26,
      "metadata": {},
      "outputs": [
        {
          "name": "stdout",
          "output_type": "stream",
          "text": [
            "   userId  n_ratings\n",
            "0       1         70\n",
            "1       2        184\n",
            "2       3        656\n",
            "3       4        242\n",
            "4       5        101\n"
          ]
        }
      ],
      "source": [
        "user_freq = ratings[['userId', 'movieId']].groupby(\n",
        "    'userId').count().reset_index()\n",
        "user_freq.columns = ['userId', 'n_ratings']\n",
        "print(user_freq.head())"
      ]
    },
    {
      "cell_type": "code",
      "execution_count": 27,
      "metadata": {},
      "outputs": [],
      "source": [
        "# Find Lowest and Highest rated movies:\n",
        "mean_rating = ratings.groupby('movieId')[['rating']].mean()\n",
        "# Lowest rated movies\n",
        "lowest_rated = mean_rating['rating'].idxmin()\n",
        "movies.loc[movies['movieId'] == lowest_rated]\n",
        "# Highest rated movies\n",
        "highest_rated = mean_rating['rating'].idxmax()\n",
        "movies.loc[movies['movieId'] == highest_rated]\n",
        "# show number of people who rated movies rated movie highest\n",
        "ratings[ratings['movieId']==highest_rated]\n",
        "# show number of people who rated movies rated movie lowest\n",
        "ratings[ratings['movieId']==lowest_rated]\n",
        "\n",
        "## the above movies has very low dataset. We will use bayesian average\n",
        "movie_stats = ratings.groupby('movieId')[['rating']].agg(['count', 'mean'])\n",
        "movie_stats.columns = movie_stats.columns.droplevel()\n"
      ]
    },
    {
      "cell_type": "code",
      "execution_count": 28,
      "metadata": {},
      "outputs": [],
      "source": [
        "# Now, we create user-item matrix using scipy csr matrix\n",
        "from scipy.sparse import csr_matrix\n",
        "\n",
        "def create_matrix(df):\n",
        "\t\n",
        "\tN = len(df['userId'].unique())\n",
        "\tM = len(df['movieId'].unique())\n",
        "\t\n",
        "\t# Map Ids to indices\n",
        "\tuser_mapper = dict(zip(np.unique(df[\"userId\"]), list(range(N))))\n",
        "\tmovie_mapper = dict(zip(np.unique(df[\"movieId\"]), list(range(M))))\n",
        "\t\n",
        "\t# Map indices to IDs\n",
        "\tuser_inv_mapper = dict(zip(list(range(N)), np.unique(df[\"userId\"])))\n",
        "\tmovie_inv_mapper = dict(zip(list(range(M)), np.unique(df[\"movieId\"])))\n",
        "\t\n",
        "\tuser_index = [user_mapper[i] for i in df['userId']]\n",
        "\tmovie_index = [movie_mapper[i] for i in df['movieId']]\n",
        "\n",
        "\tX = csr_matrix((df[\"rating\"], (movie_index, user_index)), shape=(M, N))\n",
        "\t\n",
        "\treturn X, user_mapper, movie_mapper, user_inv_mapper, movie_inv_mapper\n",
        "\t\n",
        "X, user_mapper, movie_mapper, user_inv_mapper, movie_inv_mapper = create_matrix(ratings)\n"
      ]
    },
    {
      "cell_type": "code",
      "execution_count": 29,
      "metadata": {},
      "outputs": [
        {
          "data": {
            "text/html": [
              "<div>\n",
              "<style scoped>\n",
              "    .dataframe tbody tr th:only-of-type {\n",
              "        vertical-align: middle;\n",
              "    }\n",
              "\n",
              "    .dataframe tbody tr th {\n",
              "        vertical-align: top;\n",
              "    }\n",
              "\n",
              "    .dataframe thead th {\n",
              "        text-align: right;\n",
              "    }\n",
              "</style>\n",
              "<table border=\"1\" class=\"dataframe\">\n",
              "  <thead>\n",
              "    <tr style=\"text-align: right;\">\n",
              "      <th></th>\n",
              "      <th>movieId</th>\n",
              "      <th>title</th>\n",
              "    </tr>\n",
              "  </thead>\n",
              "  <tbody>\n",
              "    <tr>\n",
              "      <th>0</th>\n",
              "      <td>1</td>\n",
              "      <td>Toy Story (1995)</td>\n",
              "    </tr>\n",
              "    <tr>\n",
              "      <th>3021</th>\n",
              "      <td>3114</td>\n",
              "      <td>Toy Story 2 (1999)</td>\n",
              "    </tr>\n",
              "    <tr>\n",
              "      <th>14813</th>\n",
              "      <td>78499</td>\n",
              "      <td>Toy Story 3 (2010)</td>\n",
              "    </tr>\n",
              "    <tr>\n",
              "      <th>20497</th>\n",
              "      <td>106022</td>\n",
              "      <td>Toy Story of Terror (2013)</td>\n",
              "    </tr>\n",
              "    <tr>\n",
              "      <th>22633</th>\n",
              "      <td>115875</td>\n",
              "      <td>Toy Story Toons: Hawaiian Vacation (2011)</td>\n",
              "    </tr>\n",
              "    <tr>\n",
              "      <th>22634</th>\n",
              "      <td>115879</td>\n",
              "      <td>Toy Story Toons: Small Fry (2011)</td>\n",
              "    </tr>\n",
              "    <tr>\n",
              "      <th>24062</th>\n",
              "      <td>120468</td>\n",
              "      <td>Toy Story Toons: Partysaurus Rex (2012)</td>\n",
              "    </tr>\n",
              "    <tr>\n",
              "      <th>24064</th>\n",
              "      <td>120474</td>\n",
              "      <td>Toy Story That Time Forgot (2014)</td>\n",
              "    </tr>\n",
              "    <tr>\n",
              "      <th>59767</th>\n",
              "      <td>201588</td>\n",
              "      <td>Toy Story 4 (2019)</td>\n",
              "    </tr>\n",
              "  </tbody>\n",
              "</table>\n",
              "</div>"
            ],
            "text/plain": [
              "       movieId                                      title\n",
              "0            1                           Toy Story (1995)\n",
              "3021      3114                         Toy Story 2 (1999)\n",
              "14813    78499                         Toy Story 3 (2010)\n",
              "20497   106022                 Toy Story of Terror (2013)\n",
              "22633   115875  Toy Story Toons: Hawaiian Vacation (2011)\n",
              "22634   115879          Toy Story Toons: Small Fry (2011)\n",
              "24062   120468    Toy Story Toons: Partysaurus Rex (2012)\n",
              "24064   120474          Toy Story That Time Forgot (2014)\n",
              "59767   201588                         Toy Story 4 (2019)"
            ]
          },
          "execution_count": 29,
          "metadata": {},
          "output_type": "execute_result"
        }
      ],
      "source": [
        "# Get the ID of toy story\n",
        "movies[movies['title'].str.contains('Toy Story')]"
      ]
    },
    {
      "cell_type": "code",
      "execution_count": 30,
      "metadata": {},
      "outputs": [
        {
          "name": "stdout",
          "output_type": "stream",
          "text": [
            "Como viste Toy Story 2 (1999), te recomendamos:\n",
            "Toy Story (1995)\n",
            "Bug's Life, A (1998)\n",
            "Monsters, Inc. (2001)\n",
            "Shrek (2001)\n",
            "Finding Nemo (2003)\n",
            "Ghostbusters (a.k.a. Ghost Busters) (1984)\n",
            "Chicken Run (2000)\n",
            "Men in Black (a.k.a. MIB) (1997)\n",
            "Back to the Future (1985)\n",
            "Sixth Sense, The (1999)\n"
          ]
        }
      ],
      "source": [
        "\"\"\"\n",
        "Find similar movies using KNN\n",
        "\"\"\"\n",
        "def find_similar_movies(movie_id, X, k, metric='cosine', show_distance=False):\n",
        "\t\n",
        "\tneighbour_ids = []\n",
        "\t\n",
        "\tmovie_ind = movie_mapper[movie_id]\n",
        "\tmovie_vec = X[movie_ind]\n",
        "\tk+=1\n",
        "\tkNN = NearestNeighbors(n_neighbors=k, algorithm=\"brute\", metric=metric)\n",
        "\tkNN.fit(X)\n",
        "\tmovie_vec = movie_vec.reshape(1,-1)\n",
        "\tneighbour = kNN.kneighbors(movie_vec, return_distance=show_distance)\n",
        "\tfor i in range(0,k):\n",
        "\t\tn = neighbour.item(i)\n",
        "\t\tneighbour_ids.append(movie_inv_mapper[n])\n",
        "\tneighbour_ids.pop(0)\n",
        "\treturn neighbour_ids\n",
        "\n",
        "\n",
        "movie_titles = dict(zip(movies['movieId'], movies['title']))\n",
        "\n",
        "movie_id = 3114 # Toy Story\n",
        "\n",
        "similar_ids = find_similar_movies(movie_id, X, k=10)\n",
        "movie_title = movie_titles[movie_id]\n",
        "\n",
        "print(f\"Como viste {movie_title}, te recomendamos:\")\n",
        "for i in similar_ids:\n",
        "\tprint(movie_titles[i])\n"
      ]
    },
    {
      "cell_type": "code",
      "execution_count": 31,
      "metadata": {},
      "outputs": [],
      "source": [
        "def recommend_movies_for_user(user_id, X, user_mapper, movie_mapper, movie_inv_mapper, k=10):\n",
        "\tdf1 = ratings[ratings['userId'] == user_id]\n",
        "\t\n",
        "\tif df1.empty:\n",
        "\t\tprint(f\"Usuario con ID {user_id} no existe.\")\n",
        "\t\treturn\n",
        "\n",
        "\tmovie_id = df1[df1['rating'] == max(df1['rating'])]['movieId'].iloc[0]\n",
        "\n",
        "\tmovie_titles = dict(zip(movies['movieId'], movies['title']))\n",
        "\n",
        "\tsimilar_ids = find_similar_movies(movie_id, X, k)\n",
        "\tmovie_title = movie_titles.get(movie_id, \"película no encontrada\")\n",
        "\n",
        "\tif movie_title == \"Movie not found\":\n",
        "\t\tprint(f\"La película con ID {movie_id} no se encontró.\")\n",
        "\t\treturn\n",
        "\n",
        "\tprint(f\"Como viste {movie_title}, te recomendamos:\")\n",
        "\tfor i in similar_ids:\n",
        "\t\tprint(movie_titles.get(i, \"película no encontrada\"))\n"
      ]
    },
    {
      "cell_type": "code",
      "execution_count": 32,
      "metadata": {},
      "outputs": [
        {
          "name": "stdout",
          "output_type": "stream",
          "text": [
            "Como viste Dead Man (1995), te recomendamos:\n",
            "Ghost Dog: The Way of the Samurai (1999)\n",
            "Down by Law (1986)\n",
            "Coffee and Cigarettes (2003)\n",
            "Night on Earth (1991)\n",
            "Lost Highway (1997)\n",
            "Stranger Than Paradise (1984)\n",
            "Mystery Train (1989)\n",
            "Barton Fink (1991)\n",
            "Brazil (1985)\n",
            "Broken Flowers (2005)\n"
          ]
        }
      ],
      "source": [
        "user_id = 100 # Replace with the desired user ID\n",
        "recommend_movies_for_user(user_id, X, user_mapper, movie_mapper, movie_inv_mapper, k=10)\n"
      ]
    },
    {
      "cell_type": "markdown",
      "metadata": {},
      "source": [
        "# Usamos similitud de cosenos"
      ]
    },
    {
      "cell_type": "code",
      "execution_count": 4,
      "metadata": {},
      "outputs": [
        {
          "data": {
            "text/html": [
              "<div>\n",
              "<style scoped>\n",
              "    .dataframe tbody tr th:only-of-type {\n",
              "        vertical-align: middle;\n",
              "    }\n",
              "\n",
              "    .dataframe tbody tr th {\n",
              "        vertical-align: top;\n",
              "    }\n",
              "\n",
              "    .dataframe thead th {\n",
              "        text-align: right;\n",
              "    }\n",
              "</style>\n",
              "<table border=\"1\" class=\"dataframe\">\n",
              "  <thead>\n",
              "    <tr style=\"text-align: right;\">\n",
              "      <th>movieId</th>\n",
              "      <th>1</th>\n",
              "      <th>2</th>\n",
              "      <th>3</th>\n",
              "      <th>4</th>\n",
              "      <th>5</th>\n",
              "      <th>6</th>\n",
              "      <th>7</th>\n",
              "      <th>8</th>\n",
              "      <th>9</th>\n",
              "      <th>10</th>\n",
              "      <th>...</th>\n",
              "      <th>203312</th>\n",
              "      <th>203393</th>\n",
              "      <th>203513</th>\n",
              "      <th>203751</th>\n",
              "      <th>205383</th>\n",
              "      <th>205809</th>\n",
              "      <th>206531</th>\n",
              "      <th>206805</th>\n",
              "      <th>207345</th>\n",
              "      <th>208000</th>\n",
              "    </tr>\n",
              "    <tr>\n",
              "      <th>userId</th>\n",
              "      <th></th>\n",
              "      <th></th>\n",
              "      <th></th>\n",
              "      <th></th>\n",
              "      <th></th>\n",
              "      <th></th>\n",
              "      <th></th>\n",
              "      <th></th>\n",
              "      <th></th>\n",
              "      <th></th>\n",
              "      <th></th>\n",
              "      <th></th>\n",
              "      <th></th>\n",
              "      <th></th>\n",
              "      <th></th>\n",
              "      <th></th>\n",
              "      <th></th>\n",
              "      <th></th>\n",
              "      <th></th>\n",
              "      <th></th>\n",
              "      <th></th>\n",
              "    </tr>\n",
              "  </thead>\n",
              "  <tbody>\n",
              "    <tr>\n",
              "      <th>19</th>\n",
              "      <td>0.0</td>\n",
              "      <td>0.0</td>\n",
              "      <td>0.0</td>\n",
              "      <td>0.0</td>\n",
              "      <td>0.0</td>\n",
              "      <td>0.0</td>\n",
              "      <td>0.0</td>\n",
              "      <td>0.0</td>\n",
              "      <td>0.0</td>\n",
              "      <td>0.0</td>\n",
              "      <td>...</td>\n",
              "      <td>0.0</td>\n",
              "      <td>0.0</td>\n",
              "      <td>0.0</td>\n",
              "      <td>0.0</td>\n",
              "      <td>0.0</td>\n",
              "      <td>0.0</td>\n",
              "      <td>0.0</td>\n",
              "      <td>0.0</td>\n",
              "      <td>0.0</td>\n",
              "      <td>0.0</td>\n",
              "    </tr>\n",
              "    <tr>\n",
              "      <th>23</th>\n",
              "      <td>0.0</td>\n",
              "      <td>0.0</td>\n",
              "      <td>0.0</td>\n",
              "      <td>0.0</td>\n",
              "      <td>0.0</td>\n",
              "      <td>0.0</td>\n",
              "      <td>0.0</td>\n",
              "      <td>0.0</td>\n",
              "      <td>0.0</td>\n",
              "      <td>0.0</td>\n",
              "      <td>...</td>\n",
              "      <td>0.0</td>\n",
              "      <td>0.0</td>\n",
              "      <td>0.0</td>\n",
              "      <td>0.0</td>\n",
              "      <td>0.0</td>\n",
              "      <td>0.0</td>\n",
              "      <td>0.0</td>\n",
              "      <td>0.0</td>\n",
              "      <td>0.0</td>\n",
              "      <td>0.0</td>\n",
              "    </tr>\n",
              "    <tr>\n",
              "      <th>49</th>\n",
              "      <td>0.0</td>\n",
              "      <td>0.0</td>\n",
              "      <td>0.0</td>\n",
              "      <td>0.0</td>\n",
              "      <td>0.0</td>\n",
              "      <td>0.0</td>\n",
              "      <td>0.0</td>\n",
              "      <td>0.0</td>\n",
              "      <td>0.0</td>\n",
              "      <td>0.0</td>\n",
              "      <td>...</td>\n",
              "      <td>0.0</td>\n",
              "      <td>0.0</td>\n",
              "      <td>0.0</td>\n",
              "      <td>0.0</td>\n",
              "      <td>0.0</td>\n",
              "      <td>0.0</td>\n",
              "      <td>0.0</td>\n",
              "      <td>0.0</td>\n",
              "      <td>0.0</td>\n",
              "      <td>0.0</td>\n",
              "    </tr>\n",
              "    <tr>\n",
              "      <th>50</th>\n",
              "      <td>0.0</td>\n",
              "      <td>0.0</td>\n",
              "      <td>0.0</td>\n",
              "      <td>0.0</td>\n",
              "      <td>0.0</td>\n",
              "      <td>0.0</td>\n",
              "      <td>0.0</td>\n",
              "      <td>0.0</td>\n",
              "      <td>0.0</td>\n",
              "      <td>0.0</td>\n",
              "      <td>...</td>\n",
              "      <td>0.0</td>\n",
              "      <td>0.0</td>\n",
              "      <td>0.0</td>\n",
              "      <td>0.0</td>\n",
              "      <td>0.0</td>\n",
              "      <td>0.0</td>\n",
              "      <td>0.0</td>\n",
              "      <td>0.0</td>\n",
              "      <td>0.0</td>\n",
              "      <td>0.0</td>\n",
              "    </tr>\n",
              "    <tr>\n",
              "      <th>70</th>\n",
              "      <td>0.0</td>\n",
              "      <td>0.0</td>\n",
              "      <td>0.0</td>\n",
              "      <td>0.0</td>\n",
              "      <td>0.0</td>\n",
              "      <td>0.0</td>\n",
              "      <td>0.0</td>\n",
              "      <td>0.0</td>\n",
              "      <td>0.0</td>\n",
              "      <td>0.0</td>\n",
              "      <td>...</td>\n",
              "      <td>0.0</td>\n",
              "      <td>0.0</td>\n",
              "      <td>0.0</td>\n",
              "      <td>0.0</td>\n",
              "      <td>0.0</td>\n",
              "      <td>0.0</td>\n",
              "      <td>0.0</td>\n",
              "      <td>0.0</td>\n",
              "      <td>0.0</td>\n",
              "      <td>0.0</td>\n",
              "    </tr>\n",
              "  </tbody>\n",
              "</table>\n",
              "<p>5 rows × 5751 columns</p>\n",
              "</div>"
            ],
            "text/plain": [
              "movieId  1       2       3       4       5       6       7       8       \\\n",
              "userId                                                                    \n",
              "19          0.0     0.0     0.0     0.0     0.0     0.0     0.0     0.0   \n",
              "23          0.0     0.0     0.0     0.0     0.0     0.0     0.0     0.0   \n",
              "49          0.0     0.0     0.0     0.0     0.0     0.0     0.0     0.0   \n",
              "50          0.0     0.0     0.0     0.0     0.0     0.0     0.0     0.0   \n",
              "70          0.0     0.0     0.0     0.0     0.0     0.0     0.0     0.0   \n",
              "\n",
              "movieId  9       10      ...  203312  203393  203513  203751  205383  205809  \\\n",
              "userId                   ...                                                   \n",
              "19          0.0     0.0  ...     0.0     0.0     0.0     0.0     0.0     0.0   \n",
              "23          0.0     0.0  ...     0.0     0.0     0.0     0.0     0.0     0.0   \n",
              "49          0.0     0.0  ...     0.0     0.0     0.0     0.0     0.0     0.0   \n",
              "50          0.0     0.0  ...     0.0     0.0     0.0     0.0     0.0     0.0   \n",
              "70          0.0     0.0  ...     0.0     0.0     0.0     0.0     0.0     0.0   \n",
              "\n",
              "movieId  206531  206805  207345  208000  \n",
              "userId                                   \n",
              "19          0.0     0.0     0.0     0.0  \n",
              "23          0.0     0.0     0.0     0.0  \n",
              "49          0.0     0.0     0.0     0.0  \n",
              "50          0.0     0.0     0.0     0.0  \n",
              "70          0.0     0.0     0.0     0.0  \n",
              "\n",
              "[5 rows x 5751 columns]"
            ]
          },
          "execution_count": 4,
          "metadata": {},
          "output_type": "execute_result"
        }
      ],
      "source": [
        "ratings = data.sample(frac=0.001, random_state=1)\n",
        "# Make a matrix where the id is the userId and have a column for each movieId (the value is the rating)\n",
        "ratings_matrix = ratings.pivot_table(index=['userId'], columns=['movieId'], values='rating')\n",
        "ratings_matrix = ratings_matrix.fillna(0)\n",
        "ratings_matrix.head()"
      ]
    },
    {
      "cell_type": "markdown",
      "metadata": {},
      "source": [
        "Creamos una matriz de correlación por cosenos"
      ]
    },
    {
      "cell_type": "code",
      "execution_count": 5,
      "metadata": {},
      "outputs": [
        {
          "name": "stdout",
          "output_type": "stream",
          "text": [
            "Las dimensiones de similaridad coseno de las caracteristicas de nuestra matriz de similitud son: (20029, 20029)\n"
          ]
        }
      ],
      "source": [
        "from sklearn.metrics.pairwise import cosine_similarity\n",
        "\n",
        "cosine_sim = cosine_similarity(ratings_matrix, ratings_matrix)\n",
        "print(f\"Las dimensiones de similaridad coseno de las caracteristicas de nuestra matriz de similitud son: {cosine_sim.shape}\")"
      ]
    },
    {
      "cell_type": "code",
      "execution_count": 10,
      "metadata": {},
      "outputs": [
        {
          "name": "stdout",
          "output_type": "stream",
          "text": [
            "El titulo correcto de la pelicula es: Star Wars: Episode IV - A New Hope (1977):\n"
          ]
        }
      ],
      "source": [
        "from fuzzywuzzy import process\n",
        "\n",
        "def encuentra_pelicula(title):\n",
        "    all_titles = data2['title'].tolist()\n",
        "    closest_match = process.extractOne(title,all_titles)\n",
        "    return closest_match[0]\n",
        "\n",
        "title = encuentra_pelicula('star wars')\n",
        "print(f\"El titulo correcto de la pelicula es: {title}:\")"
      ]
    },
    {
      "cell_type": "markdown",
      "metadata": {},
      "source": [
        "Buscamos los vectores más cercanos basado en las recomendaciones de los usuarios"
      ]
    },
    {
      "cell_type": "code",
      "execution_count": 11,
      "metadata": {},
      "outputs": [
        {
          "name": "stdout",
          "output_type": "stream",
          "text": [
            "El indice de la pelicula Star Wars: Episode IV - A New Hope (1977) en la matriz movie_idx es: 257\n"
          ]
        }
      ],
      "source": [
        "movie_idx = dict(zip(data2['title'], list(data2.index)))\n",
        "idx = movie_idx[title]\n",
        "print(f\"El indice de la pelicula {title} en la matriz movie_idx es: {idx}\")\n",
        "numero_recomendaciones=10\n",
        "sim_scores = list(enumerate(cosine_sim[idx]))\n",
        "sim_scores = sorted(sim_scores, key=lambda x: x[1], reverse=True)\n",
        "sim_scores = sim_scores[1:(numero_recomendaciones+1)]\n",
        "similar_movies = [i[0] for i in sim_scores]"
      ]
    },
    {
      "cell_type": "code",
      "execution_count": 12,
      "metadata": {},
      "outputs": [
        {
          "name": "stdout",
          "output_type": "stream",
          "text": [
            "Por que miraste la pelicula Star Wars: Episode IV - A New Hope (1977), te pueden interesar las siguientes 10 peliculas:\n"
          ]
        },
        {
          "data": {
            "text/plain": [
              "324                      Star Trek: Generations (1994)\n",
              "5046                           We Were Soldiers (2002)\n",
              "5783               Making Contact (a.k.a. Joey) (1985)\n",
              "5871                         Invaders from Mars (1953)\n",
              "6500                                 Passionada (2002)\n",
              "7281                         Flying Deuces, The (1939)\n",
              "7681                   Night of the Living Dead (1990)\n",
              "9061                                Chicago Cab (1997)\n",
              "9982     Sisterhood of the Traveling Pants, The (2005)\n",
              "11618                            Eagle vs Shark (2007)\n",
              "Name: title, dtype: object"
            ]
          },
          "execution_count": 12,
          "metadata": {},
          "output_type": "execute_result"
        }
      ],
      "source": [
        "print(f\"Por que miraste la pelicula {title}, te pueden interesar las siguientes {numero_recomendaciones} peliculas:\")\n",
        "data2['title'].iloc[similar_movies]"
      ]
    },
    {
      "cell_type": "code",
      "execution_count": 13,
      "metadata": {},
      "outputs": [],
      "source": [
        "def obtener_recomendaciones_basadas_contenido(title_string, numero_recomendaciones=10):\n",
        "    title = encuentra_pelicula(title_string)\n",
        "    idx = movie_idx[title]\n",
        "    sim_scores = list(enumerate(cosine_sim[idx]))\n",
        "    sim_scores = sorted(sim_scores, key=lambda x: x[1], reverse=True)\n",
        "    sim_scores = sim_scores[1:(numero_recomendaciones+1)]\n",
        "    similar_movies = [i[0] for i in sim_scores]\n",
        "    print(f\"Las peliculas recomendadas con base en la pelicula {title} son:\")\n",
        "    print(data2['title'].iloc[similar_movies])"
      ]
    },
    {
      "cell_type": "code",
      "execution_count": 16,
      "metadata": {},
      "outputs": [
        {
          "name": "stdout",
          "output_type": "stream",
          "text": [
            "Las peliculas recomendadas con base en la pelicula Aladin (2009) son:\n",
            "805            Collector, The (La collectionneuse) (1967)\n",
            "2859    Fistful of Dollars, A (Per un pugno di dollari...\n",
            "4626                                    Bubble Boy (2001)\n",
            "4895                                        Sahara (1943)\n",
            "6502                                  Camp Nowhere (1994)\n",
            "Name: title, dtype: object\n"
          ]
        }
      ],
      "source": [
        "obtener_recomendaciones_basadas_contenido('aladin', 5)"
      ]
    },
    {
      "cell_type": "markdown",
      "metadata": {},
      "source": [
        "# Algoritmo de predicción con red neuronal"
      ]
    },
    {
      "cell_type": "code",
      "execution_count": 5,
      "metadata": {},
      "outputs": [],
      "source": [
        "import pandas as pd\n",
        "import numpy as np\n",
        "from sklearn.model_selection import train_test_split\n",
        "from scipy.sparse import csr_matrix\n",
        "import torch\n",
        "import torch.nn as nn\n",
        "import torch.optim as optim\n",
        "from torch.utils.data import DataLoader, Dataset"
      ]
    },
    {
      "cell_type": "code",
      "execution_count": 8,
      "metadata": {},
      "outputs": [
        {
          "name": "stdout",
          "output_type": "stream",
          "text": [
            "Using device: cuda\n"
          ]
        }
      ],
      "source": [
        "# Check if GPU is available\n",
        "device = torch.device(\"cuda\" if torch.cuda.is_available() else \"cpu\")\n",
        "print(f\"Using device: {device}\")\n",
        "\n",
        "data = data[:10000]\n",
        "\n",
        "# Ensure the data types are correct\n",
        "data['userId'] = data['userId'].astype(int)\n",
        "data['movieId'] = data['movieId'].astype(int)\n",
        "data['rating'] = data['rating'].astype(float)\n",
        "\n",
        "# Create a sparse matrix\n",
        "row = data['userId'].values\n",
        "col = data['movieId'].values\n",
        "rating = data['rating'].values\n",
        "\n",
        "# Create a csr matrix\n",
        "sparse_matrix = csr_matrix((rating, (row, col)), shape=(data['userId'].max() + 1, data['movieId'].max() + 1))\n",
        "\n",
        "# Split the data into training and testing sets\n",
        "train_data, test_data = train_test_split(sparse_matrix, test_size=0.2, random_state=42)\n",
        "\n",
        "class SparseDataset(Dataset):\n",
        "    def __init__(self, sparse_matrix):\n",
        "        self.sparse_matrix = sparse_matrix.tocoo()\n",
        "        self.row = torch.LongTensor(self.sparse_matrix.row)\n",
        "        self.col = torch.LongTensor(self.sparse_matrix.col)\n",
        "        self.rating = torch.FloatTensor(self.sparse_matrix.data)\n",
        "\n",
        "    def __len__(self):\n",
        "        return len(self.rating)\n",
        "\n",
        "    def __getitem__(self, idx):\n",
        "        return self.row[idx], self.col[idx], self.rating[idx]\n",
        "\n",
        "# Create data loaders\n",
        "train_dataset = SparseDataset(train_data)\n",
        "test_dataset = SparseDataset(test_data)\n",
        "\n",
        "train_loader = DataLoader(train_dataset, batch_size=256, shuffle=True)\n",
        "test_loader = DataLoader(test_dataset, batch_size=256, shuffle=False)"
      ]
    },
    {
      "cell_type": "code",
      "execution_count": 9,
      "metadata": {},
      "outputs": [],
      "source": [
        "class Autoencoder(nn.Module):\n",
        "    def __init__(self, num_users, num_movies):\n",
        "        super(Autoencoder, self).__init__()\n",
        "        self.encoder = nn.Sequential(\n",
        "            nn.Linear(num_movies, 128),\n",
        "            nn.ReLU(),\n",
        "            nn.Linear(128, 64),\n",
        "            nn.ReLU(),\n",
        "            nn.Linear(64, 32),\n",
        "            nn.ReLU()\n",
        "        )\n",
        "        self.decoder = nn.Sequential(\n",
        "            nn.Linear(32, 64),\n",
        "            nn.ReLU(),\n",
        "            nn.Linear(64, 128),\n",
        "            nn.ReLU(),\n",
        "            nn.Linear(128, num_movies),\n",
        "            nn.Sigmoid()\n",
        "        )\n",
        "\n",
        "    def forward(self, x):\n",
        "        x = self.encoder(x)\n",
        "        x = self.decoder(x)\n",
        "        return x\n",
        "\n",
        "num_users, num_movies = sparse_matrix.shape\n",
        "model = Autoencoder(num_users, num_movies).to(device)  # Move model to GPU\n",
        "criterion = nn.MSELoss()\n",
        "optimizer = optim.Adam(model.parameters(), lr=0.001)"
      ]
    },
    {
      "cell_type": "code",
      "execution_count": 10,
      "metadata": {},
      "outputs": [
        {
          "name": "stdout",
          "output_type": "stream",
          "text": [
            "Epoch [1/10], Train Loss: 0.2004, Test Loss: 0.0906\n",
            "Epoch [2/10], Train Loss: 0.0144, Test Loss: 0.0001\n",
            "Epoch [3/10], Train Loss: 0.0001, Test Loss: 0.0001\n",
            "Epoch [4/10], Train Loss: 0.0001, Test Loss: 0.0001\n",
            "Epoch [5/10], Train Loss: 0.0001, Test Loss: 0.0001\n",
            "Epoch [6/10], Train Loss: 0.0001, Test Loss: 0.0001\n",
            "Epoch [7/10], Train Loss: 0.0001, Test Loss: 0.0001\n",
            "Epoch [8/10], Train Loss: 0.0001, Test Loss: 0.0001\n",
            "Epoch [9/10], Train Loss: 0.0001, Test Loss: 0.0001\n",
            "Epoch [10/10], Train Loss: 0.0001, Test Loss: 0.0001\n"
          ]
        }
      ],
      "source": [
        "# Training the model\n",
        "num_epochs = 10\n",
        "for epoch in range(num_epochs):\n",
        "    model.train()\n",
        "    train_loss = 0\n",
        "    for row, col, rating in train_loader:\n",
        "        row, col, rating = row.to(device), col.to(device), rating.to(device)  # Move data to GPU\n",
        "        inputs = torch.zeros(len(row), num_movies, device=device)  # Initialize inputs on GPU\n",
        "        inputs[range(len(row)), col] = rating\n",
        "\n",
        "        optimizer.zero_grad()\n",
        "        outputs = model(inputs)\n",
        "        loss = criterion(outputs, inputs)\n",
        "        loss.backward()\n",
        "        optimizer.step()\n",
        "        train_loss += loss.item()\n",
        "    \n",
        "    model.eval()\n",
        "    test_loss = 0\n",
        "    with torch.no_grad():\n",
        "        for row, col, rating in test_loader:\n",
        "            row, col, rating = row.to(device), col.to(device), rating.to(device)  # Move data to GPU\n",
        "            inputs = torch.zeros(len(row), num_movies, device=device)  # Initialize inputs on GPU\n",
        "            inputs[range(len(row)), col] = rating\n",
        "\n",
        "            outputs = model(inputs)\n",
        "            loss = criterion(outputs, inputs)\n",
        "            test_loss += loss.item()\n",
        "    \n",
        "    print(f'Epoch [{epoch+1}/{num_epochs}], Train Loss: {train_loss/len(train_loader):.4f}, Test Loss: {test_loss/len(test_loader):.4f}')"
      ]
    },
    {
      "cell_type": "code",
      "execution_count": 16,
      "metadata": {},
      "outputs": [
        {
          "name": "stdout",
          "output_type": "stream",
          "text": [
            "Test Loss: 0.0001\n",
            "[203519  67847  67845  67844  67843]\n",
            "Fast & Furious Presents: Hobbs & Shaw (2019)\n",
            "Cialo (2003)\n",
            "My Friend Henry (Ystäväni Henry) (2004)\n"
          ]
        }
      ],
      "source": [
        "# Evaluate the model on test data\n",
        "model.eval()\n",
        "test_loss = 0\n",
        "with torch.no_grad():\n",
        "    for row, col, rating in test_loader:\n",
        "        row, col, rating = row.to(device), col.to(device), rating.to(device)  # Move data to GPU\n",
        "        inputs = torch.zeros(len(row), num_movies, device=device)  # Initialize inputs on GPU\n",
        "        inputs[range(len(row)), col] = rating\n",
        "\n",
        "        outputs = model(inputs)\n",
        "        loss = criterion(outputs, inputs)\n",
        "        test_loss += loss.item()\n",
        "print(f'Test Loss: {test_loss/len(test_loader):.4f}')\n",
        "\n",
        "# Get predictions\n",
        "with torch.no_grad():\n",
        "    full_inputs = torch.zeros(num_users, num_movies, device=device)\n",
        "    full_inputs[train_dataset.row, train_dataset.col] = train_dataset.rating.to(device)\n",
        "    full_predictions = model(full_inputs).cpu()  # Move predictions back to CPU for further processing\n",
        "\n",
        "# Function to recommend movies\n",
        "def recommend_movies(user_id, num_recommendations=5):\n",
        "    user_idx = user_id\n",
        "    user_ratings = full_predictions[user_idx].numpy()\n",
        "    recommendations = np.argsort(user_ratings)[-num_recommendations:][::-1]\n",
        "    return recommendations\n",
        "\n",
        "# Example: Recommend 5 movies for user with userId=1\n",
        "recommended_movies = recommend_movies(5, 5)\n",
        "print(recommended_movies)\n",
        "\n",
        "# print the names of the recommended movies\n",
        "movie_titles = dict(zip(data2['movieId'], data2['title']))\n",
        "for movie in recommended_movies:\n",
        "    if movie in movie_titles:\n",
        "        print(movie_titles[movie])"
      ]
    }
  ],
  "metadata": {
    "colab": {
      "provenance": []
    },
    "kernelspec": {
      "display_name": "Python 3",
      "name": "python3"
    },
    "language_info": {
      "codemirror_mode": {
        "name": "ipython",
        "version": 3
      },
      "file_extension": ".py",
      "mimetype": "text/x-python",
      "name": "python",
      "nbconvert_exporter": "python",
      "pygments_lexer": "ipython3",
      "version": "3.11.5"
    }
  },
  "nbformat": 4,
  "nbformat_minor": 0
}
